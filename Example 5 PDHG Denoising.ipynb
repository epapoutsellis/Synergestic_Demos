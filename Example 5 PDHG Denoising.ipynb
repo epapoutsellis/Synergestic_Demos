{
 "cells": [
  {
   "cell_type": "code",
   "execution_count": 1,
   "metadata": {},
   "outputs": [],
   "source": [
    "#========================================================================\n",
    "#\n",
    "# Copyright 2019 Science Technology Facilities Council\n",
    "# Copyright 2019 University of Manchester\n",
    "#\n",
    "# This work is part of the Core Imaging Library developed by Science Technology\n",
    "# Facilities Council and University of Manchester\n",
    "#\n",
    "# Licensed under the Apache License, Version 2.0 (the \"License\");\n",
    "# you may not use this file except in compliance with the License.\n",
    "# You may obtain a copy of the License at\n",
    "#\n",
    "#         http://www.apache.org/licenses/LICENSE-2.0.txt\n",
    "#\n",
    "# Unless required by applicable law or agreed to in writing, software\n",
    "# distributed under the License is distributed on an \"AS IS\" BASIS,\n",
    "# WITHOUT WARRANTIES OR CONDITIONS OF ANY KIND, either express or implied.\n",
    "# See the License for the specific language governing permissions and\n",
    "# limitations under the License.\n",
    "#\n",
    "#========================================================================="
   ]
  },
  {
   "cell_type": "markdown",
   "metadata": {},
   "source": [
    "<h1><center>Primal Dual Hybrid Gradient Algorithm</center></h1>\n",
    "\n",
    "In this exercise, we use the Primal Dual Hybrid Gradient (PDHG) algorithm for :\n",
    "\n",
    "    a) a denoising task with different noise statistics\n",
    "    b) a tomography reconstruction task\n",
    "        \n",
    "        \n",
    "At the end of this demo, you will learn etc        \n",
    "        \n",
    "<h1><center> Objectives: Denoising</center></h1>   \n",
    "\n",
    "<img src=\"images/shapes_all.jpeg\"  width=\"1000\"/>\n",
    "\n",
    "<h1><center> Objectives: Tomography</center></h1>\n",
    "\n",
    "<img src=\"images/shepp_tv_recon.png\"  width=\"1000\"/>"
   ]
  },
  {
   "cell_type": "markdown",
   "metadata": {},
   "source": [
    "<h1><center> Overview </center></h1> \n",
    "\n",
    "- Brief math introduction to PDHG algorithm\n",
    "- Form the minimisation problem\n",
    "- Run algorithm\n",
    "- Show reconstruction results"
   ]
  },
  {
   "cell_type": "markdown",
   "metadata": {},
   "source": [
    "<h1><center> Overview </center></h1>    \n",
    "\n",
    "The PDHG algorithm (add refs) aims to solve problems of the form below:\n",
    "\n",
    "\\begin{equation}\n",
    "\\min_{u} \\mathcal{F}(K u) + \\mathcal{G}(u)\n",
    "\\end{equation}\n",
    "\n",
    "where:\n",
    "\n",
    "1. $K$ is a continuous linear operator acting from a space X to another space Y :\n",
    "\n",
    "   $$K : X \\rightarrow Y $$ with operator norm defined as\n",
    "   \n",
    "   $$\\| K \\| = \\max\\{ \\|K x\\|_{Y} : \\|x\\|_{X}\\leq 1 \\}$$\n",
    "      \n",
    "   **Example**:  If $K$ is a tomography operator think :\n",
    "   \n",
    "    - X as your ImageGeometry, i.e., $\\mathbb{R}^{n} $\n",
    "    - Y as your AcquisitionGeometry, i.e., $\\mathbb{R}^{m} $\n",
    "    - $K \\in \\mathbb{R}^{m \\times n} $ and  $\\|K\\|$ is computed using the [PowerMethod](https://en.wikipedia.org/wiki/Power_iteration). ( We will use it later. )\n",
    "    \n",
    "   **Example**:  If $K$ is a gradient operator ( for 2D images ) think :\n",
    "   \n",
    "    - X as your ImageGeometry, i.e., $\\mathbb{R}^{n} $\n",
    "    - Y as your BlockGeometry, i.e., $(\\mathbb{R}^{n}, \\mathbb{R}^{n}) $\n",
    "    - $\\|\\nabla\\|$ = 8 \n",
    "    \n",
    "    \n",
    "2. $\\mathcal{F}$, $\\mathcal{G}$ are convex (proper, lower-semicontinuous) functionals\n",
    "    \n",
    "    - $\\mathcal{F}: Y \\rightarrow \\mathbb{R}$ \n",
    "    \n",
    "    - $\\mathcal{G}: X \\rightarrow \\mathbb{R}$\n",
    "\n",
    "\n",
    "3. The PDHG algorithm is described below :\n",
    "\n",
    "add algorithm here\n",
    "\n",
    "define resolvent operator / proximal\n",
    "\n",
    "choose tau/sigma and then stop with math\n"
   ]
  },
  {
   "cell_type": "markdown",
   "metadata": {},
   "source": []
  },
  {
   "cell_type": "markdown",
   "metadata": {},
   "source": []
  }
 ],
 "metadata": {
  "kernelspec": {
   "display_name": "Python 3",
   "language": "python",
   "name": "python3"
  },
  "language_info": {
   "codemirror_mode": {
    "name": "ipython",
    "version": 3
   },
   "file_extension": ".py",
   "mimetype": "text/x-python",
   "name": "python",
   "nbconvert_exporter": "python",
   "pygments_lexer": "ipython3",
   "version": "3.6.7"
  }
 },
 "nbformat": 4,
 "nbformat_minor": 2
}
