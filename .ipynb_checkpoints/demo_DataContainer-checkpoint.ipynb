{
 "cells": [
  {
   "cell_type": "markdown",
   "metadata": {},
   "source": [
    "\n",
    "<strong><center>DataContainer</center></strong>\n",
    "\n",
    "* Generic class to hold data. \n",
    "\n",
    "* Currently wraps numpy arrays.  In future release, we plan to create a GPUDataContainer and BoostDataContainer which will hold the data in an array on GPU or in a boost multidimensional array respectively.\n",
    "\n",
    "* Basic algebraic methods are implemented  between each other and/or with numbers. "
   ]
  },
  {
   "cell_type": "code",
   "execution_count": 2,
   "metadata": {},
   "outputs": [],
   "source": [
    "import numpy as np\n",
    "from ccpi.framework import DataContainer"
   ]
  },
  {
   "cell_type": "code",
   "execution_count": 2,
   "metadata": {},
   "outputs": [],
   "source": [
    "# Create numpy data\n",
    "a = np.array([2,3,4])\n",
    "b = np.random.randint(10,size = (4,5))\n",
    "\n",
    "# Wrap them as DataContainers\n",
    "A = DataContainer(a)\n",
    "B = DataContainer(b)"
   ]
  },
  {
   "cell_type": "code",
   "execution_count": 3,
   "metadata": {},
   "outputs": [
    {
     "name": "stdout",
     "output_type": "stream",
     "text": [
      "Details of DataContainer A: \n",
      "Number of dimensions: 1\n",
      "Shape: (3,)\n",
      "Axis labels: {0: 'dimension_00'}\n",
      "\n",
      "Details of DataContainer B: \n",
      "Number of dimensions: 2\n",
      "Shape: (4, 5)\n",
      "Axis labels: {0: 'dimension_00', 1: 'dimension_01'}\n",
      "\n"
     ]
    }
   ],
   "source": [
    "print('Details of DataContainer A: \\n{}'.format(A))\n",
    "print('Details of DataContainer B: \\n{}'.format(B))"
   ]
  },
  {
   "cell_type": "code",
   "execution_count": 4,
   "metadata": {},
   "outputs": [],
   "source": [
    "# Show DataContainer Code\n",
    "A??"
   ]
  },
  {
   "cell_type": "code",
   "execution_count": 5,
   "metadata": {},
   "outputs": [
    {
     "name": "stdout",
     "output_type": "stream",
     "text": [
      "A = [2 3 4]\n",
      "B = [[5 8 2 3 4]\n",
      " [5 2 3 8 8]\n",
      " [4 9 5 9 8]\n",
      " [7 2 3 9 2]]\n"
     ]
    }
   ],
   "source": [
    "# Get back numpy arrays using .as_array()\n",
    "print('A = {}'.format(A.as_array()))\n",
    "print('B = {}'.format(B.as_array()))"
   ]
  },
  {
   "cell_type": "code",
   "execution_count": 6,
   "metadata": {},
   "outputs": [
    {
     "name": "stdout",
     "output_type": "stream",
     "text": [
      "Details of DataContainer B: \n",
      "Number of dimensions: 2\n",
      "Shape: (4, 5)\n",
      "Axis labels: {0: 'dimension_00', 1: 'dimension_01'}\n",
      "\n",
      "Details of DataContainer C: \n",
      "Number of dimensions: 2\n",
      "Shape: (4, 5)\n",
      "Axis labels: {0: ' y ', 1: ' x '}\n",
      "\n"
     ]
    }
   ],
   "source": [
    "# change labels name\n",
    "C = B.copy()\n",
    "\n",
    "C.dimension_labels[0] = ' y '\n",
    "C.dimension_labels[1] = ' x '\n",
    "print('Details of DataContainer B: \\n{}'.format(B))\n",
    "print('Details of DataContainer C: \\n{}'.format(C))\n"
   ]
  },
  {
   "cell_type": "markdown",
   "metadata": {},
   "source": [
    "<strong><center>ImageData and AcquisitionData</center></strong>\n",
    "    \n",
    "    \n",
    "* ImageData and AcquisitionData are subclasses of DataContainer.  \n",
    "* Contain 2D - 4D data and raw data along with their geometries i.e.,\n",
    "    1. <strong>ImageGeometry<strong>  \n",
    "    2. <strong>AcquisitionGeometry<strong>\n",
    "    \n",
    "\n",
    "* Here, we create ImageGeometries and their corresponding ImageData.\n",
    "* We can also recover an ImageGeometry if we load a TestData.\n",
    "* TestData contains the following:\n",
    "\n",
    "     1. BOAT = 'boat.tiff'\n",
    "     2. CAMERA = 'camera.png'\n",
    "     3. PEPPERS = 'peppers.tiff'\n",
    "     4. RESOLUTION_CHART = 'resolution_chart.tiff'\n",
    "     5. SIMPLE_PHANTOM_2D = 'hotdog'\n",
    "     6. SHAPES =  'shapes.png'\n",
    "\n",
    "\n",
    "    "
   ]
  },
  {
   "cell_type": "code",
   "execution_count": 7,
   "metadata": {},
   "outputs": [],
   "source": [
    "from ccpi.framework import ImageData, ImageGeometry\n",
    "\n",
    "# Define 2D ImageGeometry\n",
    "ig = ImageGeometry(voxel_num_y = 5, voxel_num_x = 4)\n",
    "\n",
    "# Create random ImageData with the specific geometry\n",
    "im_data1 = ig.allocate()\n",
    "im_data2 = ig.allocate('random', seed = 5)"
   ]
  },
  {
   "cell_type": "code",
   "execution_count": 8,
   "metadata": {},
   "outputs": [
    {
     "name": "stdout",
     "output_type": "stream",
     "text": [
      "Allocate with zeros \n",
      "[[0. 0. 0. 0.]\n",
      " [0. 0. 0. 0.]\n",
      " [0. 0. 0. 0.]\n",
      " [0. 0. 0. 0.]\n",
      " [0. 0. 0. 0.]]\n",
      "\n",
      "Allocate with random numbers in [0,1] \n",
      "[[0.22199318 0.8707323  0.20671916 0.91861093]\n",
      " [0.4884112  0.61174387 0.7659079  0.518418  ]\n",
      " [0.2968005  0.18772122 0.08074127 0.7384403 ]\n",
      " [0.4413092  0.15830986 0.87993705 0.27408648]\n",
      " [0.41423503 0.29607993 0.62878793 0.5798378 ]]\n",
      "\n",
      "Dimensions and Labels = (5, 4) , {0: 'horizontal_y', 1: 'horizontal_x'}\n"
     ]
    }
   ],
   "source": [
    "print('Allocate with zeros \\n{}\\n'.format(im_data1.as_array()))\n",
    "print('Allocate with random numbers in [0,1] \\n{}\\n'.format(im_data2.as_array()))\n",
    "print('Dimensions and Labels = {} , {}'.format(im_data1.shape, im_data1.dimension_labels))"
   ]
  },
  {
   "cell_type": "code",
   "execution_count": 9,
   "metadata": {},
   "outputs": [
    {
     "name": "stdout",
     "output_type": "stream",
     "text": [
      "2D + channels: Allocate with random integers \n",
      "[[[265. 125. 484.  15.]\n",
      "  [320. 369. 123. 156.]\n",
      "  [473. 221. 496. 413.]\n",
      "  [369.   8.  73. 256.]\n",
      "  [490.  40. 420. 371.]]\n",
      "\n",
      " [[ 16. 356. 239. 395.]\n",
      "  [ 54. 344. 363. 122.]\n",
      "  [ 62.  33. 200. 356.]\n",
      "  [462. 177. 179.  54.]\n",
      "  [ 77. 453.  13. 243.]]]\n",
      "\n",
      "Dimensions and Labels =  ((2, 5, 4), ['channel', 'horizontal_y', 'horizontal_x'])\n"
     ]
    }
   ],
   "source": [
    "# Define 2D + channels ImageGeometry\n",
    "ig1 = ImageGeometry(voxel_num_y = 5, voxel_num_x = 4, channels = 2)\n",
    "\n",
    "# Create random integer in [0, max_value] ImageData with the specific geometry\n",
    "im_data3 = ig1.allocate('random_int', seed = 10, max_value = 500)\n",
    "\n",
    "print('2D + channels: Allocate with random integers \\n{}\\n'.format(im_data3.as_array()))\n",
    "print('Dimensions and Labels =  {}'.format(im_data3.get_shape_labels(ig1)))"
   ]
  },
  {
   "cell_type": "code",
   "execution_count": 23,
   "metadata": {},
   "outputs": [
    {
     "name": "stdout",
     "output_type": "stream",
     "text": [
      "Data Geometry of 'Shapes' figure:\n",
      "Number of channels: 1\n",
      "voxel_num : x200,y300,z0\n",
      "voxel_size : x1,y1,z1\n",
      "center : x0,y0,z0\n",
      "\n"
     ]
    }
   ],
   "source": [
    "# import TestData and recover geometry\n",
    "from ccpi.framework import TestData\n",
    "import os, sys\n",
    "\n",
    "loader = TestData(data_dir=os.path.join(sys.prefix, 'share','ccpi'))\n",
    "\n",
    "data = loader.load(TestData.SHAPES)\n",
    "ig2 = data.geometry\n",
    "\n",
    "print(\"Data Geometry of 'Shapes' figure:\\n{}\".format(ig2))"
   ]
  },
  {
   "cell_type": "code",
   "execution_count": 24,
   "metadata": {},
   "outputs": [
    {
     "data": {
      "image/png": "[encoded data removed]",
      "text/plain": [
       "<Figure size 432x288 with 1 Axes>"
      ]
     },
     "metadata": {
      "needs_background": "light"
     },
     "output_type": "display_data"
    }
   ],
   "source": [
    "# Show figure\n",
    "import matplotlib.pyplot as plt\n",
    "\n",
    "plt.figure()\n",
    "plt.imshow(data.as_array())\n",
    "plt.show()"
   ]
  },
  {
   "cell_type": "code",
   "execution_count": null,
   "metadata": {},
   "outputs": [],
   "source": []
  }
 ],
 "metadata": {
  "kernelspec": {
   "display_name": "Python 3",
   "language": "python",
   "name": "python3"
  },
  "language_info": {
   "codemirror_mode": {
    "name": "ipython",
    "version": 3
   },
   "file_extension": ".py",
   "mimetype": "text/x-python",
   "name": "python",
   "nbconvert_exporter": "python",
   "pygments_lexer": "ipython3",
   "version": "3.6.7"
  }
 },
 "nbformat": 4,
 "nbformat_minor": 2
}
